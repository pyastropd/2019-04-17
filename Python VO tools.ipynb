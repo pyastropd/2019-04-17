{
 "cells": [
  {
   "cell_type": "markdown",
   "metadata": {},
   "source": [
    "<h1>Virtual Observatory: Overview</h1>\n",
    "\n",
    "The **Virtual Observatory** (VO) is the vision that astronomical datasets and other resources should work as a seamless whole. Many projects and data centres worldwide are working towards this goal. The International Virtual Observatory Alliance (IVOA) is an organisation that debates and agrees the technical standards that are needed to make the VO possible. It also acts as a focus for VO aspirations, a framework for discussing and sharing VO ideas and technology, and body for promoting and publicising the VO. (http://www.ivoa.net/)\n"
   ]
  },
  {
   "cell_type": "markdown",
   "metadata": {},
   "source": [
    "Useful for:\n",
    "* browsing images,\n",
    "* searching catalogs,\n",
    "* finding available data for an object.\n",
    "\n",
    "The VO can be seen as a **kind of club of data services that all follow the same rules**. Tools and web portals that understand these rules can fetch data from these services and know what to do with the data when they get it. The advantage of standardised services is that **you don't have to go to lots of different web pages and learn a different interface for each one**."
   ]
  },
  {
   "cell_type": "markdown",
   "metadata": {},
   "source": [
    "<h2>Standard data formats</h2>\n",
    "\n",
    "VO services are expected to return standard data formats, so that tools can make sensible use of the data. Generally this either means industry standard formats such as JPG, or well known astronomical formats such as FITS. However, you will also come across a specialised VO format for tables of information, known as **VOTable**. All VO tools know how to deal with VO Tables, so you don't need to understand the structure, but the main advantage is that VOTable has more flexible descriptive metadata than for example CSV files or FITS tables.\n",
    "\n",
    "Another VO improvement for data tables is that any table column has an associated \"**Universal Content Descriptor**\" or **UCD**, which tells software using the table what kind of quantity is in that column. For example, if the name of a table column is \"alpha\" it would be unclear what it is, but if its UCD is given as \"pos.eq.RA\" then the software will knows that it is a Right Ascension."
   ]
  },
  {
   "cell_type": "markdown",
   "metadata": {},
   "source": [
    "Main Data Services:\n",
    "\n",
    "* **Cone search** services offer the simplest access to astronomical catalogues. The input is sky-position and radius. The return is a subset of the catalogue within that radius.\n",
    "\n",
    "* **Table Access Protocol** (**TAP**) services offer more flexible access to data tables, along the lines astronomers have become used to in making queries to databases like those of SDSS or UKIDSS. The input is a query in Astronomical Data Query Language (ADQL -- http://docs.g-vo.org/adql-gaia/html/), which is basically a standardised version of SQL. The return is a data table.  \n",
    "\n",
    "* **Simple Image Access Protocol** (**SIAP**) services offer access to pixel data. The input is a position and a size. If the SIAP service is a \"cut-out\" service, the return will be an image  centred at the requested position, with the requested size. If it is an \"Atlas\" service, which holds a collection of standard sized data frames, then the size is used to look for frames centred within that distance of the requested position, and the whole data frame(s) returned.\n",
    "\n",
    "* **Simple Spectral Access Protocol** (**SSAP**) services provide access to spectra. The input is a position and size. Like the \"atlas\" version of image access, the return will be any spectra whose target positions are within the stated distance of the requested position.\n"
   ]
  },
  {
   "cell_type": "markdown",
   "metadata": {},
   "source": [
    "<h2>VO-based Applications</h2>\n",
    "\n",
    "* **TOPCAT - Tool for OPerations on Catalogues And Tables** (http://www.star.bris.ac.uk/~mbt/topcat/):  interactive graphical viewer and editor for tabular data. Useful for the analysis and manipulation of source catalogues and other tables. **STILTS - Starlink Tables Infrastructure Library Tool Set** (http://www.star.bris.ac.uk/~mbt/stilts/): the command-line counterpart of the GUI table analysis tool TOPCAT.\n",
    "* **Aladin** (https://aladin.u-strasbg.fr/aladin.gml): interactive sky atlas to visualize digitized astronomical images or full surveys, superimpose entries from astronomical catalogues or databases, and interactively access related data and information from the Simbad database, the VizieR service and other archives for all known astronomical objects in the field.\n",
    "* **VOSA - VO Sed Analyzer** (http://svo2.cab.inta-csic.es/theory/vosa/): tool to query photometrical catalogs, read user photometry-tables, calculate syntetic photometry, model the observed SED, generate HR diagrams, provide an estimate of mass and age of the sources.\n",
    "\n",
    "(FYI: interesting tutorials available at this link: https://www.asterics2020.eu/dokuwiki/doku.php?id=open:wp4:school4:program)\n",
    "\n",
    "\n"
   ]
  },
  {
   "cell_type": "markdown",
   "metadata": {},
   "source": [
    "<h1>PyVO</h1>\n",
    "\n",
    "PyVO lets you find and retrieve astronomical data available from archives that support standard IVOA virtual observatory service protocols.  PyVO is built on top of the widely used Astropy package (Astropy Collaboration et al.,\n",
    "2013), an integrated set of astronomically-oriented modules.\n",
    "This allows users to discover and download data and process and analyze it with the robust capabilities of Astropy.\n",
    "PyVO is installable via pip.\n",
    "\n"
   ]
  },
  {
   "cell_type": "raw",
   "metadata": {},
   "source": [
    "pip install pyvo"
   ]
  },
  {
   "cell_type": "markdown",
   "metadata": {},
   "source": [
    "<h2>Requirements</h2>\n",
    "* numpy (> 1.4.0)\n",
    "* astropy\n",
    "* requests\n"
   ]
  },
  {
   "cell_type": "markdown",
   "metadata": {},
   "source": [
    "<h2>Getting Started</h2>\n",
    "\n",
    "\n",
    "Initialization:\n",
    "\n"
   ]
  },
  {
   "cell_type": "code",
   "execution_count": 93,
   "metadata": {},
   "outputs": [],
   "source": [
    "%matplotlib inline\n",
    "import pyvo"
   ]
  },
  {
   "cell_type": "markdown",
   "metadata": {},
   "source": [
    "In general, we should define a **service**, then perform a **query** with parameters specific to the service type, and store the **results**.\n"
   ]
  },
  {
   "cell_type": "markdown",
   "metadata": {},
   "source": [
    "<h2>Services</h2>\n",
    "There are five types of services with different purposes but a similiar interface available.\n",
    "\n",
    "\n",
    "<h3>Table Access Protocol</h3>\n",
    "Unlike the other services, this one works with tables queryable by an sql-ish language called ADQL instead of predefined search constraints.\n",
    "\n",
    "\n",
    "\n"
   ]
  },
  {
   "cell_type": "code",
   "execution_count": 94,
   "metadata": {},
   "outputs": [],
   "source": [
    "service = pyvo.dal.TAPService(\"http://simbad.u-strasbg.fr:80/simbad/sim-tap\")"
   ]
  },
  {
   "cell_type": "code",
   "execution_count": 95,
   "metadata": {},
   "outputs": [
    {
     "name": "stderr",
     "output_type": "stream",
     "text": [
      "WARNING: W06: None:85:0: W06: Invalid UCD 'meta.bib;meta.number': Primary word 'meta.number' is not valid as a secondary word [astropy.io.votable.tree]\n",
      "WARNING: W06: None:89:0: W06: Invalid UCD 'meta.record;meta.id': Primary word 'meta.id' is not valid as a secondary word [astropy.io.votable.tree]\n",
      "WARNING: W06: None:93:0: W06: Invalid UCD 'src.class;meta.code.class': Primary word 'meta.code.class' is not valid as a secondary word [astropy.io.votable.tree]\n"
     ]
    }
   ],
   "source": [
    "resultset = service.search(\"SELECT * FROM basic\")"
   ]
  },
  {
   "cell_type": "code",
   "execution_count": 96,
   "metadata": {},
   "outputs": [
    {
     "data": {
      "text/plain": [
       "<Table masked=True length=50000>\n",
       "    coo_bibcode     coo_err_angle coo_err_maj ... sp_type update_date   vlsr \n",
       "                         deg          mas     ...                            \n",
       "       object           int16       float32   ...  object    object   float64\n",
       "------------------- ------------- ----------- ... ------- ----------- -------\n",
       "2018yCat.1345....0G            90      0.0283 ...          2018-06-29      --\n",
       "2018yCat.1345....0G            90      0.0255 ...          2018-06-29      --\n",
       "2018yCat.1345....0G            90      0.0295 ...          2018-06-29      --\n",
       "2018yCat.1345....0G            90      0.0825 ...          2018-06-30      --\n",
       "2003yCat.2246....0C            83        80.0 ...          2011-06-27      --\n",
       "2018yCat.1345....0G            90      0.0259 ...          2018-06-29      --\n",
       "2018yCat.1345....0G            90       0.027 ...          2018-06-29      --\n",
       "2018yCat.1345....0G            90      0.0233 ...          2018-06-29      --\n",
       "2018yCat.1345....0G            90      0.0222 ...          2018-06-29      --\n",
       "                ...           ...         ... ...     ...         ...     ...\n",
       "2018yCat.1345....0G            90      0.0272 ...          2019-01-30      --\n",
       "2018yCat.1345....0G            90       0.422 ...          2018-06-29      --\n",
       "2010AcA....60..165S            90       230.0 ...          2014-04-14      --\n",
       "2018yCat.1345....0G            90       0.024 ...          2018-06-29      --\n",
       "2018yCat.1345....0G            90      0.1005 ...          2018-06-29      --\n",
       "2012ApJS..203...21A             0        12.0 ...          2018-05-22      --\n",
       "2018yCat.1345....0G            90      0.0263 ...          2018-08-06      --\n",
       "2012ApJS..203...21A            90        15.0 ...          2018-05-22      --\n",
       "2018yCat.1345....0G            90      0.0336 ...          2018-06-29      --\n",
       "2018yCat.1345....0G            90       0.035 ...          2018-06-29      --"
      ]
     },
     "execution_count": 96,
     "metadata": {},
     "output_type": "execute_result"
    }
   ],
   "source": [
    "resultset\n"
   ]
  },
  {
   "cell_type": "markdown",
   "metadata": {},
   "source": [
    "<h3>Simple Image Access</h3>\n",
    "\n",
    "Basic queries are done with the _pos_ and _size_ parameters described in Astrometrical parameters, with size being the rectangular region around pos."
   ]
  },
  {
   "cell_type": "code",
   "execution_count": 97,
   "metadata": {},
   "outputs": [
    {
     "name": "stderr",
     "output_type": "stream",
     "text": [
      "WARNING: AstropyDeprecationWarning: The truth value of a Quantity is ambiguous. In the future this will raise a ValueError. [astropy.units.quantity]\n",
      "WARNING: W27: None:18:442: W27: COOSYS deprecated in VOTable 1.2 [astropy.io.votable.tree]\n",
      "WARNING: W06: None:18:2090: W06: Invalid UCD 'POS_EQ_RA_MAIN': Unknown word 'POS_EQ_RA_MAIN' [astropy.io.votable.tree]\n",
      "WARNING: W06: None:18:2262: W06: Invalid UCD 'POS_EQ_DEC_MAIN': Unknown word 'POS_EQ_DEC_MAIN' [astropy.io.votable.tree]\n",
      "WARNING: W06: None:18:2591: W06: Invalid UCD 'INST_ID': Unknown word 'INST_ID' [astropy.io.votable.tree]\n",
      "WARNING: W06: None:18:5750: W06: Invalid UCD 'meta.name': Unknown word 'meta.name' [astropy.io.votable.tree]\n",
      "WARNING: W04: None:18:6088: W04: content-type 'application/x-votable+xml;content=datalink' must be a valid MIME content type [astropy.io.votable.xmlutil]\n"
     ]
    },
    {
     "data": {
      "text/plain": [
       "<Table masked=True length=8>\n",
       "                                     accref                                      ...\n",
       "                                                                                 ...\n",
       "                                     object                                      ...\n",
       "-------------------------------------------------------------------------------- ...\n",
       "http://dc.zah.uni-heidelberg.de/getproduct/boydende/data/fits/HAR081_006454.fits ...\n",
       "http://dc.zah.uni-heidelberg.de/getproduct/boydende/data/fits/HAR081_006478.fits ...\n",
       "http://dc.zah.uni-heidelberg.de/getproduct/boydende/data/fits/HAR081_006479.fits ...\n",
       "http://dc.zah.uni-heidelberg.de/getproduct/boydende/data/fits/HAR081_006481.fits ...\n",
       "http://dc.zah.uni-heidelberg.de/getproduct/boydende/data/fits/HAR081_006498.fits ...\n",
       "http://dc.zah.uni-heidelberg.de/getproduct/boydende/data/fits/HAR081_006507.fits ...\n",
       "http://dc.zah.uni-heidelberg.de/getproduct/boydende/data/fits/HAR081_006510.fits ...\n",
       "http://dc.zah.uni-heidelberg.de/getproduct/boydende/data/fits/HAR081_006523.fits ..."
      ]
     },
     "execution_count": 97,
     "metadata": {},
     "output_type": "execute_result"
    }
   ],
   "source": [
    "from astropy.coordinates import SkyCoord \n",
    "from astropy.units import Quantity\n",
    "\n",
    "pos = SkyCoord.from_name('Eta Carinae')\n",
    "size = Quantity(0.5, unit=\"deg\")\n",
    "sia_service = pyvo.dal.SIAService(\"http://dc.zah.uni-heidelberg.de/hppunion/q/im/siap.xml\")\n",
    "sia_results = sia_service.search(pos=pos, size=size)\n",
    "sia_results"
   ]
  },
  {
   "cell_type": "markdown",
   "metadata": {},
   "source": [
    "It is possible to select the format that we want to receive, either graphics (JPG, PNG, GIF) or metadata.\n",
    "\n",
    "\n"
   ]
  },
  {
   "cell_type": "markdown",
   "metadata": {},
   "source": [
    "<h3>Simple Spectrum Access</h3>\n",
    "\n",
    "Access to (one-dimensional) spectra resembles image access, with some subtile differences:\n",
    "\n",
    "The size parameter is called diameter here, and hence the search region is always circular with pos as center:"
   ]
  },
  {
   "cell_type": "code",
   "execution_count": 98,
   "metadata": {},
   "outputs": [
    {
     "name": "stderr",
     "output_type": "stream",
     "text": [
      "WARNING: AstropyDeprecationWarning: The truth value of a Quantity is ambiguous. In the future this will raise a ValueError. [astropy.units.quantity]\n",
      "WARNING: W03: None:15:6: W03: Implicitly generating an ID from a name 'Target name' -> 'Target_name' [astropy.io.votable.xmlutil]\n",
      "WARNING: W03: None:18:6: W03: Implicitly generating an ID from a name 'RA DEC' -> 'RA_DEC' [astropy.io.votable.xmlutil]\n",
      "WARNING: W50: None:18:6: W50: Invalid unit string ' deg' [astropy.io.votable.tree]\n",
      "WARNING: W03: None:21:6: W03: Implicitly generating an ID from a name 'Start time' -> 'Start_time' [astropy.io.votable.xmlutil]\n",
      "WARNING: W50: None:21:6: W50: Invalid unit string ' d' [astropy.io.votable.tree]\n",
      "WARNING: W03: None:24:6: W03: Implicitly generating an ID from a name 'Stop time' -> 'Stop_time' [astropy.io.votable.xmlutil]\n",
      "WARNING: W50: None:24:6: W50: Invalid unit string ' d' [astropy.io.votable.tree]\n",
      "WARNING: W06: None:27:6: W06: Invalid UCD 'VOX:BandPass_ID': UCD has invalid character ':' in 'VOX:BandPass_ID' [astropy.io.votable.tree]\n",
      "WARNING: W03: None:30:6: W03: Implicitly generating an ID from a name 'Access format' -> 'Access_format' [astropy.io.votable.xmlutil]\n"
     ]
    },
    {
     "data": {
      "text/plain": [
       "<Table masked=True length=5>\n",
       "                Title                 Instrument ... Bandpass  Access format  \n",
       "                                                 ...                          \n",
       "                object                  object   ...  object       object     \n",
       "------------------------------------- ---------- ... -------- ----------------\n",
       "     V band OMC magnitude light Curve        omc ... INTEGRAL application/fits\n",
       "17.8-80.0 keV ISGRI count light curve      isgri ... INTEGRAL application/fits\n",
       " 80.0-250 keV ISGRI count light curve      isgri ... INTEGRAL application/fits\n",
       "  3.0-10.2 keV JEMX count light curve       jemx ... INTEGRAL application/fits\n",
       " 10.2-34.9 keV JEMX count light curve       jemx ... INTEGRAL application/fits"
      ]
     },
     "execution_count": 98,
     "metadata": {},
     "output_type": "execute_result"
    }
   ],
   "source": [
    "ssa_service = pyvo.dal.SSAService(\"http://www.isdc.unige.ch/vo-services/lc\")\n",
    "ssa_results = ssa_service.search(pos=pos, diameter=size)\n",
    "ssa_results"
   ]
  },
  {
   "cell_type": "markdown",
   "metadata": {},
   "source": [
    "<h3>Simple Cone Search</h3>\n",
    "\n",
    "The Simple Cone Search returns results – typically catalog entries – within a circular region on the sky defined by the parameters pos (again, ICRS) and radius:"
   ]
  },
  {
   "cell_type": "code",
   "execution_count": 99,
   "metadata": {},
   "outputs": [
    {
     "data": {
      "text/plain": [
       "<Table masked=True length=5>\n",
       "        _r        hipno      raj2000      ...   pmraHIP      pmdeHIP   \n",
       "       deg                     deg        ...   deg / yr     deg / yr  \n",
       "     float64      object     float64      ...   float32      float32   \n",
       "----------------- ------ ---------------- ... ------------ ------------\n",
       "0.125481911011817  52558 161.187612383333 ... -2.01389e-06  7.47222e-07\n",
       "0.273291439427868  52562   161.1964495375 ... -2.14167e-06  9.05556e-07\n",
       "0.387423868771207  52806 161.934655158333 ... -4.31389e-06 -3.33333e-08\n",
       " 0.44762655677728  52827 162.022529929167 ... -2.10556e-06  7.52778e-07\n",
       "0.458205458134352  52488 160.967739020833 ... -1.81944e-06  5.63889e-07"
      ]
     },
     "execution_count": 99,
     "metadata": {},
     "output_type": "execute_result"
    }
   ],
   "source": [
    "scs_service = pyvo.dal.SCSService('http://dc.zah.uni-heidelberg.de/arihip/q/cone/scs.xml')\n",
    "scs_results = scs_service.search(pos=pos, radius=size)\n",
    "scs_results"
   ]
  },
  {
   "cell_type": "markdown",
   "metadata": {},
   "source": [
    "<h2>Queries</h2>\n",
    "\n",
    "In order to make more complex queries, the knowledge of ADQL is required. However, some examples and prompts are provided in TOPCAT. By means of a TAP query, one can retreive ConeSearch informations as well. \n",
    "\n",
    "\n",
    "<h3>Uploads</h3>\n",
    "Some TAP services allow you to upload your own tables to make them accessible in queries.\n",
    "\n",
    "For this the various query methods have a uploads keyword, which accepts a dictionary of table name and content.\n",
    "\n",
    "The mechanism behind this parameter is smart enough to distinct between various types of content, either a str pointing to a local file or a file-like object, a Table or DALResults for an inline upload, or a url str pointing to a remote resource.\n",
    "\n",
    "The uploaded tables will be available as TAP_UPLOAD.name.\n",
    "\n"
   ]
  },
  {
   "cell_type": "code",
   "execution_count": 100,
   "metadata": {},
   "outputs": [],
   "source": [
    "import pandas as pd\n",
    "data = [['11 Com', 185.179, 17.793, 'HIP 60202'],\n",
    "['11 UMi', 229.275, 71.824, 'HIP 74793'],\n",
    "['14 And', 352.823, 39.236, 'HIP 116076'],\n",
    "['14 Her', 242.601, 43.818, 'HIP 79248'],\n",
    "['16 Cyg', 295.467, 50.518, 'HIP 96901'],\n",
    "['18 del', 314.608, 10.839, 'HIP 103527'],\n",
    "['1RXS1609', 242.376, -21.083, ''],\n",
    "['24 Boo', 217.158, 49.845, 'HIP 70791'],\n",
    "['24 Sex', 155.868, -0.902, 'HIP 50887'],\n",
    "['2MASS J02192210-3925225', 34.842, -39.423, ''],\n",
    "['2MASS J04414489+2301513', 70.437, 23.031, ''],\n",
    "['2MASS 1207', 181.889, -39.548, '2MASS J12073346-3932539,2MASSW J1207334-393254,USNO-B1.0 0504-00258166,TWA 27,WDS J12076-3933AB,NAME 2M1207,** CVN   12,NAME 2M1207A,DENIS J120733.4-393254,WISE J120733.42-393254.2,2M 1207-39 b,2MASSW J1207334-393254 b,2MASS1207-3932 B,2M1207B,2M1207 b,2M 1207 b,2MASS J12073346-3932539 b'],\n",
    "['2MASS 1938+4603', 294.636, 46.066, ''],\n",
    "['2MASS J21402931+1625183', 325.122, 16.422, ''],\n",
    "['2MASS J22362452+4751425', 339.102, 47.862, ''],\n",
    "['30 Ari', 39.241, 24.648, 'HIP 12184'],\n",
    "['4 UMa', 130.053, 64.328, 'HIP 42527'],\n",
    "['42 Dra', 276.496, 65.563, 'HIP 90344'],\n",
    "['47 UMa', 164.867, 40.43, 'HIP 53721']]\n",
    "\n",
    "c=pd.DataFrame(data,columns=[\"Host\",\"ra\",\"dec\",\"alias\"])\n",
    "c\n",
    "c.to_csv(\"table.csv\")\n"
   ]
  },
  {
   "cell_type": "markdown",
   "metadata": {},
   "source": [
    "Turn that into an Astropy table:"
   ]
  },
  {
   "cell_type": "code",
   "execution_count": 101,
   "metadata": {},
   "outputs": [],
   "source": [
    "import astropy.table as tab\n",
    "local_table = tab.Table.from_pandas(c[['Host','ra','dec','alias']])\n",
    "\n"
   ]
  },
  {
   "cell_type": "markdown",
   "metadata": {},
   "source": [
    "Select service: SIMBAD TAP SERVICE:"
   ]
  },
  {
   "cell_type": "code",
   "execution_count": 102,
   "metadata": {},
   "outputs": [],
   "source": [
    "s=\"http://simbad.u-strasbg.fr:80/simbad/sim-tap\"\n",
    "service = pyvo.dal.TAPService(s)    "
   ]
  },
  {
   "cell_type": "code",
   "execution_count": 103,
   "metadata": {},
   "outputs": [
    {
     "name": "stderr",
     "output_type": "stream",
     "text": [
      "WARNING: AstropyDeprecationWarning: Using the table property is deprecated. Please use se to_table() instead. [pyvo.dal.query]\n"
     ]
    },
    {
     "data": {
      "text/html": [
       "<i>Table masked=True length=19</i>\n",
       "<table id=\"table34768665568\" class=\"table-striped table-bordered table-condensed\">\n",
       "<thead><tr><th>Host</th><th>ra</th><th>dec</th><th>alias</th><th>main_id</th><th>dec_2</th><th>ra_2</th></tr></thead>\n",
       "<thead><tr><th></th><th></th><th></th><th></th><th></th><th>deg</th><th>deg</th></tr></thead>\n",
       "<thead><tr><th>object</th><th>float64</th><th>float64</th><th>object</th><th>object</th><th>float64</th><th>float64</th></tr></thead>\n",
       "<tr><td>11 Com</td><td>185.179</td><td>17.793</td><td>HIP 60202</td><td>*  11 Com</td><td>17.792872016363056</td><td>185.17927325102127</td></tr>\n",
       "<tr><td>11 UMi</td><td>229.275</td><td>71.824</td><td>HIP 74793</td><td>*  11 UMi</td><td>71.82389929736556</td><td>229.27454806843</td></tr>\n",
       "<tr><td>14 And</td><td>352.823</td><td>39.236</td><td>HIP 116076</td><td>*  14 And</td><td>39.23619735870278</td><td>352.82255302216294</td></tr>\n",
       "<tr><td>14 Her</td><td>242.601</td><td>43.818</td><td>HIP 79248</td><td>*  14 Her</td><td>43.81763853737972</td><td>242.6013136477292</td></tr>\n",
       "<tr><td>16 Cyg</td><td>295.467</td><td>50.518</td><td>HIP 96901</td><td>*  16 Cyg</td><td>50.52544444444444</td><td>295.45454166666667</td></tr>\n",
       "<tr><td>18 del</td><td>314.608</td><td>10.839</td><td>HIP 103527</td><td>*  18 Del</td><td>10.839285026460557</td><td>314.60805686290246</td></tr>\n",
       "<tr><td>1RXS1609</td><td>242.376</td><td>-21.083</td><td></td><td></td><td>--</td><td>--</td></tr>\n",
       "<tr><td>24 Boo</td><td>217.158</td><td>49.845</td><td>HIP 70791</td><td>* g Boo</td><td>49.8448503045835</td><td>217.1575543882676</td></tr>\n",
       "<tr><td>24 Sex</td><td>155.868</td><td>-0.902</td><td>HIP 50887</td><td>*  24 Sex</td><td>-0.9022436559763889</td><td>155.86820579804623</td></tr>\n",
       "<tr><td>2MASS J02192210-3925225</td><td>34.842</td><td>-39.423</td><td></td><td>2MASS J02192210-3925225</td><td>-39.422922298465274</td><td>34.842127084335</td></tr>\n",
       "<tr><td>2MASS J04414489+2301513</td><td>70.437</td><td>23.031</td><td></td><td>2MASS J04414489+2301513</td><td>23.030946644801944</td><td>70.4370660526475</td></tr>\n",
       "<tr><td>2MASS 1207</td><td>181.889</td><td>-39.548</td><td>2MASS J12073346-3932539,2MASSW J1207334-393254,USNO-B1.0 0504-00258166,TWA 27,WDS J12076-3933AB,NAME 2M1207,** CVN   12,NAME 2M1207A,DENIS J120733.4-393254,WISE J120733.42-393254.2,2M 1207-39 b,2MASSW J1207334-393254 b,2MASS1207-3932 B,2M1207B,2M1207 b,2M 1207 b,2MASS J12073346-3932539 b</td><td></td><td>--</td><td>--</td></tr>\n",
       "<tr><td>2MASS 1938+4603</td><td>294.636</td><td>46.066</td><td></td><td></td><td>--</td><td>--</td></tr>\n",
       "<tr><td>2MASS J21402931+1625183</td><td>325.122</td><td>16.422</td><td></td><td>2MASSW J2140293+162518</td><td>16.4217095261325</td><td>325.1221711741525</td></tr>\n",
       "<tr><td>2MASS J22362452+4751425</td><td>339.102</td><td>47.862</td><td></td><td>UCAC4 690-119045</td><td>47.8618142365862</td><td>339.1021895315603</td></tr>\n",
       "<tr><td>30 Ari</td><td>39.241</td><td>24.648</td><td>HIP 12184</td><td></td><td>--</td><td>--</td></tr>\n",
       "<tr><td>4 UMa</td><td>130.053</td><td>64.328</td><td>HIP 42527</td><td>* pi.02 UMa</td><td>64.32793694532944</td><td>130.05341837658918</td></tr>\n",
       "<tr><td>42 Dra</td><td>276.496</td><td>65.563</td><td>HIP 90344</td><td>*  42 Dra</td><td>65.56347332177612</td><td>276.49640991498217</td></tr>\n",
       "<tr><td>47 UMa</td><td>164.867</td><td>40.43</td><td>HIP 53721</td><td>*  47 UMa</td><td>40.430256219143885</td><td>164.86655776870498</td></tr>\n",
       "</table>"
      ],
      "text/plain": [
       "<Table masked=True length=19>\n",
       "          Host             ra   ...        dec_2               ra_2       \n",
       "                                ...         deg                deg        \n",
       "         object         float64 ...       float64            float64      \n",
       "----------------------- ------- ... ------------------- ------------------\n",
       "                 11 Com 185.179 ...  17.792872016363056 185.17927325102127\n",
       "                 11 UMi 229.275 ...   71.82389929736556    229.27454806843\n",
       "                 14 And 352.823 ...   39.23619735870278 352.82255302216294\n",
       "                 14 Her 242.601 ...   43.81763853737972  242.6013136477292\n",
       "                 16 Cyg 295.467 ...   50.52544444444444 295.45454166666667\n",
       "                 18 del 314.608 ...  10.839285026460557 314.60805686290246\n",
       "               1RXS1609 242.376 ...                  --                 --\n",
       "                 24 Boo 217.158 ...    49.8448503045835  217.1575543882676\n",
       "                 24 Sex 155.868 ... -0.9022436559763889 155.86820579804623\n",
       "2MASS J02192210-3925225  34.842 ... -39.422922298465274    34.842127084335\n",
       "2MASS J04414489+2301513  70.437 ...  23.030946644801944   70.4370660526475\n",
       "             2MASS 1207 181.889 ...                  --                 --\n",
       "        2MASS 1938+4603 294.636 ...                  --                 --\n",
       "2MASS J21402931+1625183 325.122 ...    16.4217095261325  325.1221711741525\n",
       "2MASS J22362452+4751425 339.102 ...    47.8618142365862  339.1021895315603\n",
       "                 30 Ari  39.241 ...                  --                 --\n",
       "                  4 UMa 130.053 ...   64.32793694532944 130.05341837658918\n",
       "                 42 Dra 276.496 ...   65.56347332177612 276.49640991498217\n",
       "                 47 UMa 164.867 ...  40.430256219143885 164.86655776870498"
      ]
     },
     "execution_count": 103,
     "metadata": {},
     "output_type": "execute_result"
    }
   ],
   "source": [
    "query=\"SELECT t.*,  basic.main_id, basic.dec as dec_2, basic.ra as ra_2 FROM TAP_UPLOAD.t1 as t \\\n",
    "LEFT OUTER JOIN ident ON ident.id = t.Host LEFT OUTER JOIN basic ON ident.oidref = basic.oid\"\n",
    "        \n",
    "\n",
    "response = service.run_sync(query,uploads={\"t1\": local_table},timeout=None)\n",
    "table=response.table\n",
    "table"
   ]
  },
  {
   "cell_type": "code",
   "execution_count": 104,
   "metadata": {},
   "outputs": [
    {
     "data": {
      "text/html": [
       "<i>Table length=4</i>\n",
       "<table id=\"table34954881792\" class=\"table-striped table-bordered table-condensed\">\n",
       "<thead><tr><th>Host</th><th>ra</th><th>dec</th><th>alias</th><th>main_id</th><th>dec_2</th><th>ra_2</th></tr></thead>\n",
       "<thead><tr><th></th><th></th><th></th><th></th><th></th><th>deg</th><th>deg</th></tr></thead>\n",
       "<thead><tr><th>object</th><th>float64</th><th>float64</th><th>object</th><th>object</th><th>float64</th><th>float64</th></tr></thead>\n",
       "<tr><td>1RXS1609</td><td>242.376</td><td>-21.083</td><td></td><td></td><td>0.0</td><td>0.0</td></tr>\n",
       "<tr><td>2MASS 1207</td><td>181.889</td><td>-39.548</td><td>2MASS J12073346-3932539,2MASSW J1207334-393254,USNO-B1.0 0504-00258166,TWA 27,WDS J12076-3933AB,NAME 2M1207,** CVN   12,NAME 2M1207A,DENIS J120733.4-393254,WISE J120733.42-393254.2,2M 1207-39 b,2MASSW J1207334-393254 b,2MASS1207-3932 B,2M1207B,2M1207 b,2M 1207 b,2MASS J12073346-3932539 b</td><td></td><td>0.0</td><td>0.0</td></tr>\n",
       "<tr><td>2MASS 1938+4603</td><td>294.636</td><td>46.066</td><td></td><td></td><td>0.0</td><td>0.0</td></tr>\n",
       "<tr><td>30 Ari</td><td>39.241</td><td>24.648</td><td>HIP 12184</td><td></td><td>0.0</td><td>0.0</td></tr>\n",
       "</table>"
      ],
      "text/plain": [
       "<Table length=4>\n",
       "      Host         ra     dec   ... main_id  dec_2    ra_2 \n",
       "                                ...           deg     deg  \n",
       "     object     float64 float64 ...  object float64 float64\n",
       "--------------- ------- ------- ... ------- ------- -------\n",
       "       1RXS1609 242.376 -21.083 ...             0.0     0.0\n",
       "     2MASS 1207 181.889 -39.548 ...             0.0     0.0\n",
       "2MASS 1938+4603 294.636  46.066 ...             0.0     0.0\n",
       "         30 Ari  39.241  24.648 ...             0.0     0.0"
      ]
     },
     "execution_count": 104,
     "metadata": {},
     "output_type": "execute_result"
    }
   ],
   "source": [
    "table=table.filled(0)\n",
    "table=table[table['ra_2']==0]\n",
    "table"
   ]
  },
  {
   "cell_type": "code",
   "execution_count": 105,
   "metadata": {},
   "outputs": [
    {
     "name": "stderr",
     "output_type": "stream",
     "text": [
      "WARNING: AstropyDeprecationWarning: Using the table property is deprecated. Please use se to_table() instead. [pyvo.dal.query]\n"
     ]
    },
    {
     "data": {
      "text/html": [
       "<i>Table masked=True length=9</i>\n",
       "<table id=\"table34835368984\" class=\"table-striped table-bordered table-condensed\">\n",
       "<thead><tr><th>Host</th><th>ra</th><th>dec</th><th>alias</th><th>main_id</th><th>dec_2</th><th>ra_2</th><th>otype_txt</th></tr></thead>\n",
       "<thead><tr><th></th><th></th><th></th><th></th><th></th><th>deg</th><th>deg</th><th></th></tr></thead>\n",
       "<thead><tr><th>object</th><th>float64</th><th>float64</th><th>object</th><th>object</th><th>float64</th><th>float64</th><th>object</th></tr></thead>\n",
       "<tr><td>1RXS1609</td><td>242.376</td><td>-21.083</td><td></td><td>NAME 1RXS1609 b</td><td>-21.08304035577167</td><td>242.3762817466054</td><td>Pl</td></tr>\n",
       "<tr><td>1RXS1609</td><td>242.376</td><td>-21.083</td><td></td><td>1RXS J160929.1-210524</td><td>-21.08304035577167</td><td>242.3762817466054</td><td>pr*</td></tr>\n",
       "<tr><td>2MASS 1207</td><td>181.889</td><td>-39.548</td><td>2MASS J12073346-3932539,2MASSW J1207334-393254,USNO-B1.0 0504-00258166,TWA 27,WDS J12076-3933AB,NAME 2M1207,** CVN   12,NAME 2M1207A,DENIS J120733.4-393254,WISE J120733.42-393254.2,2M 1207-39 b,2MASSW J1207334-393254 b,2MASS1207-3932 B,2M1207B,2M1207 b,2M 1207 b,2MASS J12073346-3932539 b</td><td>TWA 27</td><td>-39.54833333333333</td><td>181.88944583333333</td><td>BD*</td></tr>\n",
       "<tr><td>2MASS 1207</td><td>181.889</td><td>-39.548</td><td>2MASS J12073346-3932539,2MASSW J1207334-393254,USNO-B1.0 0504-00258166,TWA 27,WDS J12076-3933AB,NAME 2M1207,** CVN   12,NAME 2M1207A,DENIS J120733.4-393254,WISE J120733.42-393254.2,2M 1207-39 b,2MASSW J1207334-393254 b,2MASS1207-3932 B,2M1207B,2M1207 b,2M 1207 b,2MASS J12073346-3932539 b</td><td>TWA 27B</td><td>-39.548444444444435</td><td>181.88958333333332</td><td>BD*</td></tr>\n",
       "<tr><td>2MASS 1938+4603</td><td>294.636</td><td>46.066</td><td></td><td>Kepler-451b</td><td>46.066427543536946</td><td>294.63588507183835</td><td>Pl?</td></tr>\n",
       "<tr><td>2MASS 1938+4603</td><td>294.636</td><td>46.066</td><td></td><td>2MASS J19383146+4603452</td><td>46.0625554007124</td><td>294.6311159937204</td><td>*</td></tr>\n",
       "<tr><td>2MASS 1938+4603</td><td>294.636</td><td>46.066</td><td></td><td>Kepler-451</td><td>46.0664275435369</td><td>294.6358850718383</td><td>HS*</td></tr>\n",
       "<tr><td>30 Ari</td><td>39.241</td><td>24.648</td><td>HIP 12184</td><td>*  30 Ari Bb</td><td>24.648056290960554</td><td>39.24060370514417</td><td>Pl</td></tr>\n",
       "<tr><td>30 Ari</td><td>39.241</td><td>24.648</td><td>HIP 12184</td><td>*  30 Ari B</td><td>24.648056290960554</td><td>39.24060370514417</td><td>**</td></tr>\n",
       "</table>"
      ],
      "text/plain": [
       "<Table masked=True length=9>\n",
       "      Host         ra     dec   ...        ra_2        otype_txt\n",
       "                                ...        deg                  \n",
       "     object     float64 float64 ...      float64         object \n",
       "--------------- ------- ------- ... ------------------ ---------\n",
       "       1RXS1609 242.376 -21.083 ...  242.3762817466054        Pl\n",
       "       1RXS1609 242.376 -21.083 ...  242.3762817466054       pr*\n",
       "     2MASS 1207 181.889 -39.548 ... 181.88944583333333       BD*\n",
       "     2MASS 1207 181.889 -39.548 ... 181.88958333333332       BD*\n",
       "2MASS 1938+4603 294.636  46.066 ... 294.63588507183835       Pl?\n",
       "2MASS 1938+4603 294.636  46.066 ...  294.6311159937204         *\n",
       "2MASS 1938+4603 294.636  46.066 ...  294.6358850718383       HS*\n",
       "         30 Ari  39.241  24.648 ...  39.24060370514417        Pl\n",
       "         30 Ari  39.241  24.648 ...  39.24060370514417        **"
      ]
     },
     "execution_count": 105,
     "metadata": {},
     "output_type": "execute_result"
    }
   ],
   "source": [
    "local_table = table[['Host','ra','dec','alias']]\n",
    "query=\"SELECT tc.*, db.main_id, db.dec as dec_2,db.ra as ra_2,db.otype_txt  FROM basic AS db  \\\n",
    "JOIN TAP_UPLOAD.t1 AS tc ON 1=CONTAINS(POINT('ICRS',db.ra, db.dec),   CIRCLE('ICRS',tc.ra, tc.dec ,0.005))\"\n",
    "        \n",
    "service = pyvo.dal.TAPService(s)    \n",
    "response = service.run_sync(query,uploads={\"t1\": local_table},timeout=None)\n",
    "tablenew=response.table\n",
    "tablenew"
   ]
  },
  {
   "cell_type": "code",
   "execution_count": 106,
   "metadata": {},
   "outputs": [
    {
     "name": "stderr",
     "output_type": "stream",
     "text": [
      "WARNING: AstropyDeprecationWarning: Using the table property is deprecated. Please use se to_table() instead. [pyvo.dal.query]\n"
     ]
    },
    {
     "data": {
      "text/html": [
       "<i>Table masked=True length=6</i>\n",
       "<table id=\"table34955002656\" class=\"table-striped table-bordered table-condensed\">\n",
       "<thead><tr><th>Host</th><th>ra</th><th>dec</th><th>alias</th><th>main_id</th><th>dec_2</th><th>ra_2</th><th>otype_txt</th></tr></thead>\n",
       "<thead><tr><th></th><th></th><th></th><th></th><th></th><th>deg</th><th>deg</th><th></th></tr></thead>\n",
       "<thead><tr><th>object</th><th>float64</th><th>float64</th><th>object</th><th>object</th><th>float64</th><th>float64</th><th>object</th></tr></thead>\n",
       "<tr><td>1RXS1609</td><td>242.376</td><td>-21.083</td><td></td><td>1RXS J160929.1-210524</td><td>-21.08304035577167</td><td>242.3762817466054</td><td>pr*</td></tr>\n",
       "<tr><td>2MASS 1207</td><td>181.889</td><td>-39.548</td><td>2MASS J12073346-3932539,2MASSW J1207334-393254,USNO-B1.0 0504-00258166,TWA 27,WDS J12076-3933AB,NAME 2M1207,** CVN   12,NAME 2M1207A,DENIS J120733.4-393254,WISE J120733.42-393254.2,2M 1207-39 b,2MASSW J1207334-393254 b,2MASS1207-3932 B,2M1207B,2M1207 b,2M 1207 b,2MASS J12073346-3932539 b</td><td>TWA 27</td><td>-39.54833333333333</td><td>181.88944583333333</td><td>BD*</td></tr>\n",
       "<tr><td>2MASS 1207</td><td>181.889</td><td>-39.548</td><td>2MASS J12073346-3932539,2MASSW J1207334-393254,USNO-B1.0 0504-00258166,TWA 27,WDS J12076-3933AB,NAME 2M1207,** CVN   12,NAME 2M1207A,DENIS J120733.4-393254,WISE J120733.42-393254.2,2M 1207-39 b,2MASSW J1207334-393254 b,2MASS1207-3932 B,2M1207B,2M1207 b,2M 1207 b,2MASS J12073346-3932539 b</td><td>TWA 27B</td><td>-39.548444444444435</td><td>181.88958333333332</td><td>BD*</td></tr>\n",
       "<tr><td>2MASS 1938+4603</td><td>294.636</td><td>46.066</td><td></td><td>2MASS J19383146+4603452</td><td>46.0625554007124</td><td>294.6311159937204</td><td>*</td></tr>\n",
       "<tr><td>2MASS 1938+4603</td><td>294.636</td><td>46.066</td><td></td><td>Kepler-451</td><td>46.0664275435369</td><td>294.6358850718383</td><td>HS*</td></tr>\n",
       "<tr><td>30 Ari</td><td>39.241</td><td>24.648</td><td>HIP 12184</td><td>*  30 Ari B</td><td>24.648056290960554</td><td>39.24060370514417</td><td>**</td></tr>\n",
       "</table>"
      ],
      "text/plain": [
       "<Table masked=True length=6>\n",
       "      Host         ra     dec   ...        ra_2        otype_txt\n",
       "                                ...        deg                  \n",
       "     object     float64 float64 ...      float64         object \n",
       "--------------- ------- ------- ... ------------------ ---------\n",
       "       1RXS1609 242.376 -21.083 ...  242.3762817466054       pr*\n",
       "     2MASS 1207 181.889 -39.548 ... 181.88944583333333       BD*\n",
       "     2MASS 1207 181.889 -39.548 ... 181.88958333333332       BD*\n",
       "2MASS 1938+4603 294.636  46.066 ...  294.6311159937204         *\n",
       "2MASS 1938+4603 294.636  46.066 ...  294.6358850718383       HS*\n",
       "         30 Ari  39.241  24.648 ...  39.24060370514417        **"
      ]
     },
     "execution_count": 106,
     "metadata": {},
     "output_type": "execute_result"
    }
   ],
   "source": [
    "local_table = table[['Host','ra','dec','alias']]\n",
    "query=\"SELECT tc.*, db.main_id, db.dec as dec_2,db.ra as ra_2, db.otype_txt FROM basic AS db  \\\n",
    "JOIN TAP_UPLOAD.t1 AS tc ON 1=CONTAINS(POINT('ICRS',db.ra, db.dec),   CIRCLE('ICRS',tc.ra, tc.dec ,0.005))\\\n",
    "WHERE db.otype_txt != 'Pl' AND db.otype_txt != 'Pl?'\"\n",
    "        \n",
    "service = pyvo.dal.TAPService(s)    \n",
    "response = service.run_sync(query,uploads={\"t1\": local_table},timeout=None)\n",
    "table=response.table\n",
    "table\n",
    "\n"
   ]
  },
  {
   "cell_type": "markdown",
   "metadata": {},
   "source": [
    "<h2>Resultsets and Records</h2>\n",
    "\n",
    "Resultsets contain primarily tabular data and might also provide binary datasets and/or access to additional data services.\n",
    "\n",
    "To obtain the names of the columns in a service response, write:"
   ]
  },
  {
   "cell_type": "code",
   "execution_count": 107,
   "metadata": {},
   "outputs": [
    {
     "name": "stdout",
     "output_type": "stream",
     "text": [
      "('accref', 'mime', 'accsize', 'centerAlpha', 'centerDelta', 'imageTitle', 'instId', 'dateObs', 'nAxes', 'pixelSize', 'pixelScale', 'refFrame', 'wcs_equinox', 'wcs_projection', 'wcs_refPixel', 'wcs_refValues', 'wcs_cdmatrix', 'bandpassId', 'bandpassUnit', 'bandpassRefval', 'bandpassHi', 'bandpassLo', 'pixflags', 'coverage', 'object', 'datalink_url')\n"
     ]
    }
   ],
   "source": [
    "print(sia_results.fieldnames)"
   ]
  },
  {
   "cell_type": "markdown",
   "metadata": {},
   "source": [
    "Rich metadata equivalent to what is found in VOTables (including unit, ucd, utype, and xtype) is available through the getdesc() method:\n",
    "\n"
   ]
  },
  {
   "cell_type": "code",
   "execution_count": 108,
   "metadata": {},
   "outputs": [
    {
     "name": "stdout",
     "output_type": "stream",
     "text": [
      "meta.name\n"
     ]
    }
   ],
   "source": [
    "print(sia_results.getdesc('object').ucd)"
   ]
  },
  {
   "cell_type": "markdown",
   "metadata": {},
   "source": [
    "Iterating over a resultset gives the rows in the result:"
   ]
  },
  {
   "cell_type": "code",
   "execution_count": 109,
   "metadata": {},
   "outputs": [
    {
     "name": "stdout",
     "output_type": "stream",
     "text": [
      "('_r', 'hipno', 'raj2000', 'dej2000', 'pmra', 'pmde', 'err_ra', 'err_pmra', 'err_de', 'err_pmde', 'parallax', 'vrad', 'mv', 'km', 'kbin', 'kae', 'raLTP', 'deLTP', 'pmraLTP', 'pmdeLTP', 'raSTP', 'deSTP', 'pmraSTP', 'pmdeSTP', 'raHIP', 'deHIP', 'pmraHIP', 'pmdeHIP')\n",
      "b'52558'\n",
      "b'52562'\n",
      "b'52806'\n",
      "b'52827'\n",
      "b'52488'\n"
     ]
    }
   ],
   "source": [
    "print(scs_results.fieldnames)\n",
    "for row in scs_results:\n",
    "     print(row['hipno'])"
   ]
  },
  {
   "cell_type": "markdown",
   "metadata": {},
   "source": [
    "As with general numpy arrays, accessing individual columns via names gives an array of all of their values:"
   ]
  },
  {
   "cell_type": "code",
   "execution_count": 110,
   "metadata": {},
   "outputs": [
    {
     "name": "stdout",
     "output_type": "stream",
     "text": [
      "('Host', 'ra', 'dec', 'alias', 'main_id', 'dec_2', 'ra_2', 'otype_txt')\n"
     ]
    },
    {
     "data": {
      "text/plain": [
       "masked_array(data=[b'1RXS J160929.1-210524', b'TWA 27', b'TWA 27B',\n",
       "                   b'2MASS J19383146+4603452', b'Kepler-451',\n",
       "                   b'*  30 Ari B'],\n",
       "             mask=[False, False, False, False, False, False],\n",
       "       fill_value='?',\n",
       "            dtype=object)"
      ]
     },
     "execution_count": 110,
     "metadata": {},
     "output_type": "execute_result"
    }
   ],
   "source": [
    "print(response.fieldnames)\n",
    "column = response['main_id']\n",
    "column"
   ]
  },
  {
   "cell_type": "markdown",
   "metadata": {},
   "source": [
    "whereas integers retrieve the rows:"
   ]
  },
  {
   "cell_type": "code",
   "execution_count": 111,
   "metadata": {},
   "outputs": [
    {
     "data": {
      "text/plain": [
       "(b'1RXS1609', 242.376, -21.083, b'', b'1RXS J160929.1-210524', -21.08304035577167, 242.3762817466054, b'pr*')"
      ]
     },
     "execution_count": 111,
     "metadata": {},
     "output_type": "execute_result"
    }
   ],
   "source": [
    "row = response[0]\n",
    "row"
   ]
  },
  {
   "cell_type": "markdown",
   "metadata": {},
   "source": [
    "and both combined gives a single value:"
   ]
  },
  {
   "cell_type": "code",
   "execution_count": 112,
   "metadata": {},
   "outputs": [
    {
     "data": {
      "text/plain": [
       "b'1RXS J160929.1-210524'"
      ]
     },
     "execution_count": 112,
     "metadata": {},
     "output_type": "execute_result"
    }
   ],
   "source": [
    "value = response['main_id', 0]\n",
    "value"
   ]
  }
 ],
 "metadata": {
  "kernelspec": {
   "display_name": "Python 3",
   "language": "python",
   "name": "python3"
  },
  "language_info": {
   "codemirror_mode": {
    "name": "ipython",
    "version": 3
   },
   "file_extension": ".py",
   "mimetype": "text/x-python",
   "name": "python",
   "nbconvert_exporter": "python",
   "pygments_lexer": "ipython3",
   "version": "3.6.5"
  }
 },
 "nbformat": 4,
 "nbformat_minor": 2
}
